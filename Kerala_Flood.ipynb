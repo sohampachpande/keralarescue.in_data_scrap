{
 "cells": [
  {
   "cell_type": "code",
   "execution_count": 19,
   "metadata": {},
   "outputs": [],
   "source": [
    "import requests\n",
    "from bs4 import BeautifulSoup as soup\n",
    "import csv\n",
    "\n",
    "city_list = ['wnd', 'tcr', 'tvm', 'ptm', 'pkd', 'mpm', 'koz', 'ktm', 'kol', 'ksr', 'knr', 'idk', 'ekm','alp']\n",
    "city_name_dict = {'tvm':'Thiruvananthapuram', 'kol':'Kollam', 'alp':'Alappuzha',\n",
    "                  'ptm':'Pathanamthitta', 'ktm':'Kottayam', 'idk':'Idukki','ekm':'Ernakulam',\n",
    "                  'tcr':'Thrissur','pkd':'Palakkad', 'mpm':'Malappuram', 'koz':'Kozhikode',\n",
    "                  'wnd':'Wayanadu', 'knr':'Kannur', 'ksr':'Kasaragod'}"
   ]
  },
  {
   "cell_type": "code",
   "execution_count": null,
   "metadata": {},
   "outputs": [],
   "source": [
    "html_prev = ''\n",
    "for city in city_list:\n",
    "    city_file = open(city_name_dict[city]+'.csv', 'w')\n",
    "    city_file.close()\n",
    "    for pg_no in range(100):\n",
    "        params = (('page', str(pg_no)),('district', city),)\n",
    "        response = requests.get('https://keralarescue.in/requests/',params=params)\n",
    "        html = response.content\n",
    "        if html == html_prev:\n",
    "            break\n",
    "        html_prev = response.content\n",
    "        htm = soup(html, \"html.parser\")\n",
    "        containers = htm.findAll(\"td\")\n",
    "        loca = ''\n",
    "        name = ''\n",
    "        phone = ''\n",
    "        datetime = ''\n",
    "        \n",
    "        \n",
    "        with open(city_name_dict[city]+'.csv', 'r') as csvfile:\n",
    "            reader = csv.reader(csvfile)\n",
    "            data_list = []\n",
    "            for data in reader:\n",
    "                data_list.append(data)\n",
    "\n",
    "        with open(city_name_dict[city]+'.csv', 'w', newline='') as csvfile:\n",
    "            row = csv.writer(csvfile)\n",
    "\n",
    "            for data in data_list:\n",
    "                row.writerow(data)\n",
    "\n",
    "            for i in range(len(containers)):\n",
    "                if i%6 == 0:\n",
    "                    district = containers[i].text.encode('utf8')\n",
    "                elif i%6 == 1:\n",
    "                    loca = containers[i].text.encode('utf8')\n",
    "                elif i%6 == 2:\n",
    "                    name = containers[i].text.encode('utf8')\n",
    "                elif i%6 == 3:\n",
    "                    phone = containers[i].text.encode('utf8')\n",
    "                elif i%6 == 4:\n",
    "                    datetime = containers[i].text.encode('utf8')\n",
    "                elif i%6 == 5:\n",
    "                    url = containers[i].a['href'].encode('utf8')    \n",
    "                    row.writerow(['%s'%district, '%s'%loca,'%s'%name,'%s'%phone,'%s'%datetime, 'https://keralarescue.in%s'%url])\n"
   ]
  },
  {
   "cell_type": "code",
   "execution_count": null,
   "metadata": {},
   "outputs": [],
   "source": []
  }
 ],
 "metadata": {
  "kernelspec": {
   "display_name": "Python 3",
   "language": "python",
   "name": "python3"
  }
 },
 "nbformat": 4,
 "nbformat_minor": 2
}
